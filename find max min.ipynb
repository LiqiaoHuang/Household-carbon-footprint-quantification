{
 "cells": [
  {
   "cell_type": "code",
   "execution_count": 5,
   "id": "fd92f4d9",
   "metadata": {},
   "outputs": [],
   "source": [
    "import pandas as pd\n",
    "df_di_11 = pd.read_excel('../direct_2011.xlsx', sheet_name=None)\n",
    "\n",
    "dfs_dict = {}\n",
    "for i in range(13):\n",
    "    dfs_dict[f'df_di_11_{i}'] = pd.DataFrame(columns=['max', 'min'])\n",
    "for i in range(13):\n",
    "    sheet_name = str(i)\n",
    "    if sheet_name in df_di_11:\n",
    "        df = df_di_11[sheet_name]\n",
    "        df = df.select_dtypes(include='number')\n",
    "        df = df.drop(df.columns[0], axis=1)\n",
    "        sum_of_columns = df.sum()\n",
    "        for index, row in df.iterrows():\n",
    "            max_value = row[row!=0].max()\n",
    "            min_value = row[row!=0].min()\n",
    "            dfs_dict[f'df_di_11_{i}'].loc[index] = [max_value, min_value]\n",
    "with pd.ExcelWriter('2011_output.xlsx') as writer:\n",
    "    for i in range(13):\n",
    "        dfs_dict[f'df_di_11_{i}'].to_excel(writer, sheet_name=str(i), index=False)\n"
   ]
  },
  {
   "cell_type": "code",
   "execution_count": 1,
   "id": "1983957f",
   "metadata": {},
   "outputs": [
    {
     "name": "stderr",
     "output_type": "stream",
     "text": [
      "/var/folders/d7/p46qc1857_x7221pjnvz6rz80000gn/T/ipykernel_3930/1781778261.py:23: FutureWarning: The pandas.np module is deprecated and will be removed from pandas in a future version. Import numpy directly instead.\n",
      "  df_sum_without_zero = df_sum.replace(0, pd.np.nan)\n"
     ]
    },
    {
     "ename": "NameError",
     "evalue": "name 'index' is not defined",
     "output_type": "error",
     "traceback": [
      "\u001b[0;31m---------------------------------------------------------------------------\u001b[0m",
      "\u001b[0;31mNameError\u001b[0m                                 Traceback (most recent call last)",
      "Cell \u001b[0;32mIn[1], line 26\u001b[0m\n\u001b[1;32m     24\u001b[0m         df_sum_max_without_zero \u001b[38;5;241m=\u001b[39m df_sum_without_zero\u001b[38;5;241m.\u001b[39mmax()\n\u001b[1;32m     25\u001b[0m         df_sum_min_without_zero \u001b[38;5;241m=\u001b[39m df_sum_without_zero\u001b[38;5;241m.\u001b[39mmin()\n\u001b[0;32m---> 26\u001b[0m         dfs_dict[\u001b[38;5;124mf\u001b[39m\u001b[38;5;124m'\u001b[39m\u001b[38;5;124mdf_di_11_\u001b[39m\u001b[38;5;132;01m{\u001b[39;00mi\u001b[38;5;132;01m}\u001b[39;00m\u001b[38;5;124m'\u001b[39m]\u001b[38;5;241m.\u001b[39mloc[\u001b[43mindex\u001b[49m] \u001b[38;5;241m=\u001b[39m [df_sum_max_without_zero, df_sum_min_without_zero]\n\u001b[1;32m     27\u001b[0m         \u001b[38;5;66;03m# 遍历每一行\u001b[39;00m\n\u001b[1;32m     28\u001b[0m \u001b[38;5;66;03m#         for index, row in df.iterrows():\u001b[39;00m\n\u001b[1;32m     29\u001b[0m \u001b[38;5;66;03m#             # 计算最大值和最小值，排除为0的值\u001b[39;00m\n\u001b[0;32m   (...)\u001b[0m\n\u001b[1;32m     37\u001b[0m \u001b[38;5;66;03m# #         dfs_dict.to_excel(writer, sheet_name=str(i), index=False)\u001b[39;00m\n\u001b[1;32m     38\u001b[0m \u001b[38;5;66;03m# # # 将每个DataFrame写入Excel的不同sheet中\u001b[39;00m\n\u001b[1;32m     39\u001b[0m \u001b[38;5;28;01mwith\u001b[39;00m pd\u001b[38;5;241m.\u001b[39mExcelWriter(\u001b[38;5;124m'\u001b[39m\u001b[38;5;124m2011_output_total.xlsx\u001b[39m\u001b[38;5;124m'\u001b[39m) \u001b[38;5;28;01mas\u001b[39;00m writer:\n",
      "\u001b[0;31mNameError\u001b[0m: name 'index' is not defined"
     ]
    }
   ],
   "source": [
    "import pandas as pd\n",
    "df_di_11 = pd.read_excel('../direct_2011.xlsx', sheet_name=None)\n",
    "\n",
    "dfs_dict = {}\n",
    "for i in range(13):\n",
    "    dfs_dict[f'df_di_11_{i}'] = pd.DataFrame(columns=['max', 'min'])\n",
    "for i in range(13):\n",
    "    sheet_name = str(i)\n",
    "    if sheet_name in df_di_11:\n",
    "        df = df_di_11[sheet_name]\n",
    "        df = df.select_dtypes(include='number')\n",
    "        df = df.drop(df.columns[0], axis=1)\n",
    "        df_sum = df.sum()\n",
    "#         df_sum_max = df_sum.max()\n",
    "#         df_sum_min = df_sum.min()\n",
    "        \n",
    "        df_sum = df.sum()\n",
    "        df_sum_without_zero = df_sum.replace(0, pd.np.nan)\n",
    "        df_sum_max_without_zero = df_sum_without_zero.max()\n",
    "        df_sum_min_without_zero = df_sum_without_zero.min()\n",
    "        dfs_dict[f'df_di_11_{i}'].loc[index] = [df_sum_max_without_zero, df_sum_min_without_zero]\n",
    "with pd.ExcelWriter('2011_output_total.xlsx') as writer:\n",
    "    for i in range(13):\n",
    "        dfs_dict[f'df_di_11_{i}'].to_excel(writer, sheet_name=str(i), index=False)"
   ]
  },
  {
   "cell_type": "code",
   "execution_count": null,
   "id": "b45532ab",
   "metadata": {},
   "outputs": [],
   "source": []
  }
 ],
 "metadata": {
  "kernelspec": {
   "display_name": "Python 3 (ipykernel)",
   "language": "python",
   "name": "python3"
  },
  "language_info": {
   "codemirror_mode": {
    "name": "ipython",
    "version": 3
   },
   "file_extension": ".py",
   "mimetype": "text/x-python",
   "name": "python",
   "nbconvert_exporter": "python",
   "pygments_lexer": "ipython3",
   "version": "3.11.0"
  }
 },
 "nbformat": 4,
 "nbformat_minor": 5
}
